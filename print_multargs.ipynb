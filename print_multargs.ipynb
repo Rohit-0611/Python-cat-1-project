{
 "cells": [
  {
   "cell_type": "markdown",
   "metadata": {},
   "source": [
    "Multiple Arguments Print"
   ]
  },
  {
   "cell_type": "code",
   "execution_count": 5,
   "metadata": {},
   "outputs": [
    {
     "name": "stdout",
     "output_type": "stream",
     "text": [
      "Happy birthday Rohit Sweet 19\n"
     ]
    }
   ],
   "source": [
    "def args(name, num):\n",
    "\tprint(\"Happy birthday\", name + 'Sweet ' + num)\n",
    "\n",
    "\n",
    "args(\"Rohit \", \"19\")\n"
   ]
  }
 ],
 "metadata": {
  "language_info": {
   "name": "python"
  },
  "orig_nbformat": 4
 },
 "nbformat": 4,
 "nbformat_minor": 2
}
