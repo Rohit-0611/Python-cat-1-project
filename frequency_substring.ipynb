{
 "cells": [
  {
   "cell_type": "markdown",
   "metadata": {},
   "source": [
    "Frequency of substring"
   ]
  },
  {
   "cell_type": "code",
   "execution_count": 1,
   "metadata": {},
   "outputs": [
    {
     "name": "stdout",
     "output_type": "stream",
     "text": [
      "Substring frequence is : 2\n"
     ]
    }
   ],
   "source": [
    "f=0\n",
    "str1=input(\"Enter the string 1\")\n",
    "str2=(\"Hi\")\n",
    "for i in range(len(str1)):\n",
    "    for j in range(len(str2)):\n",
    "        if str1[i]==str2[j]:\n",
    "         j=j+1\n",
    "    if j==len(str2):\n",
    "        f=f+1\n",
    "\n",
    "\n",
    "print(\"Substring frequence is :\",f)\n",
    "\n",
    "\n"
   ]
  },
  {
   "cell_type": "code",
   "execution_count": null,
   "metadata": {},
   "outputs": [],
   "source": []
  }
 ],
 "metadata": {
  "kernelspec": {
   "display_name": "Python 3.10.4 64-bit",
   "language": "python",
   "name": "python3"
  },
  "language_info": {
   "codemirror_mode": {
    "name": "ipython",
    "version": 3
   },
   "file_extension": ".py",
   "mimetype": "text/x-python",
   "name": "python",
   "nbconvert_exporter": "python",
   "pygments_lexer": "ipython3",
   "version": "3.10.4"
  },
  "orig_nbformat": 4,
  "vscode": {
   "interpreter": {
    "hash": "64662e17c20e17ba9ef56a1055aa4fdde537c737af698ff811ebb2b7d83aa6f7"
   }
  }
 },
 "nbformat": 4,
 "nbformat_minor": 2
}
