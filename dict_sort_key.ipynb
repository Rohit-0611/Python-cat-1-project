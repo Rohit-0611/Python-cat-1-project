{
 "cells": [
  {
   "cell_type": "markdown",
   "metadata": {},
   "source": [
    "Sort by Key"
   ]
  },
  {
   "cell_type": "code",
   "execution_count": 1,
   "metadata": {},
   "outputs": [
    {
     "name": "stdout",
     "output_type": "stream",
     "text": [
      "key_value {2: 56, 1: 2, 5: 12, 4: 24, 6: 18, 3: 323}\n",
      "1 2 3 4 5 6 "
     ]
    }
   ],
   "source": [
    "\n",
    "def dictionairy():\n",
    "\n",
    "\tkey_value = {}\n",
    "\n",
    "\n",
    "\tkey_value[2] = 56\n",
    "\tkey_value[1] = 2\n",
    "\tkey_value[5] = 12\n",
    "\tkey_value[4] = 24\n",
    "\tkey_value[6] = 18\n",
    "\tkey_value[3] = 323\n",
    " \n",
    "\tprint(\"key_value\", key_value)\n",
    "\tfor i in sorted(key_value.keys()):\n",
    "\t\tprint(i, end=\" \")\n",
    "\n",
    "\n",
    "def main():\n",
    "\t\n",
    "\tdictionairy()\n",
    "\n",
    "\n",
    "if __name__ == \"__main__\":\n",
    "\tmain()\n"
   ]
  },
  {
   "cell_type": "code",
   "execution_count": null,
   "metadata": {},
   "outputs": [],
   "source": []
  }
 ],
 "metadata": {
  "kernelspec": {
   "display_name": "Python 3.10.4 64-bit",
   "language": "python",
   "name": "python3"
  },
  "language_info": {
   "codemirror_mode": {
    "name": "ipython",
    "version": 3
   },
   "file_extension": ".py",
   "mimetype": "text/x-python",
   "name": "python",
   "nbconvert_exporter": "python",
   "pygments_lexer": "ipython3",
   "version": "3.10.4"
  },
  "orig_nbformat": 4,
  "vscode": {
   "interpreter": {
    "hash": "64662e17c20e17ba9ef56a1055aa4fdde537c737af698ff811ebb2b7d83aa6f7"
   }
  }
 },
 "nbformat": 4,
 "nbformat_minor": 2
}
