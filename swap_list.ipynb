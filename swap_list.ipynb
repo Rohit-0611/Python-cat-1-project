{
 "cells": [
  {
   "cell_type": "markdown",
   "metadata": {},
   "source": [
    "Swapping two elements in Python"
   ]
  },
  {
   "cell_type": "code",
   "execution_count": 6,
   "metadata": {},
   "outputs": [
    {
     "name": "stdout",
     "output_type": "stream",
     "text": [
      "[5, 3, 1, 4, 0]\n"
     ]
    }
   ],
   "source": [
    "\n",
    "def swap(list, pos1, pos2):\n",
    "\n",
    "\tget = list[pos1], list[pos2]\n",
    "\t\n",
    "\t\n",
    "\tlist[pos2], list[pos1] = get\n",
    "\t\n",
    "\treturn list\n",
    "\n",
    "\n",
    "List = [1,3,5,4,0]\n",
    "\n",
    "pos1, pos2 = 1, 3\n",
    "print(swap(List, pos1-1, pos2-1))\n"
   ]
  },
  {
   "cell_type": "code",
   "execution_count": null,
   "metadata": {},
   "outputs": [],
   "source": []
  }
 ],
 "metadata": {
  "kernelspec": {
   "display_name": "Python 3.10.4 64-bit",
   "language": "python",
   "name": "python3"
  },
  "language_info": {
   "codemirror_mode": {
    "name": "ipython",
    "version": 3
   },
   "file_extension": ".py",
   "mimetype": "text/x-python",
   "name": "python",
   "nbconvert_exporter": "python",
   "pygments_lexer": "ipython3",
   "version": "3.10.4"
  },
  "orig_nbformat": 4,
  "vscode": {
   "interpreter": {
    "hash": "64662e17c20e17ba9ef56a1055aa4fdde537c737af698ff811ebb2b7d83aa6f7"
   }
  }
 },
 "nbformat": 4,
 "nbformat_minor": 2
}
