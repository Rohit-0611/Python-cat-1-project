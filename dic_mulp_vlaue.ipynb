{
 "cells": [
  {
   "cell_type": "markdown",
   "metadata": {},
   "source": [
    "Dictionary with multiple values"
   ]
  },
  {
   "cell_type": "code",
   "execution_count": 1,
   "metadata": {},
   "outputs": [
    {
     "name": "stdout",
     "output_type": "stream",
     "text": [
      "{(10, 20, 30): 0, (5, 2, 4): 3}\n"
     ]
    }
   ],
   "source": [
    "import random as rn\n",
    "\n",
    "\n",
    "dict = {}\n",
    "\n",
    "\n",
    "x, y, z = 10, 20, 30\n",
    "dict[x, y, z] = x + y - z\n",
    "\n",
    "\n",
    "x, y, z = 5, 2, 4\n",
    "dict[x, y, z] = x + y - z\n",
    "\n",
    "\n",
    "print(dict)\n"
   ]
  },
  {
   "cell_type": "code",
   "execution_count": null,
   "metadata": {},
   "outputs": [],
   "source": []
  }
 ],
 "metadata": {
  "kernelspec": {
   "display_name": "Python 3.10.4 64-bit",
   "language": "python",
   "name": "python3"
  },
  "language_info": {
   "codemirror_mode": {
    "name": "ipython",
    "version": 3
   },
   "file_extension": ".py",
   "mimetype": "text/x-python",
   "name": "python",
   "nbconvert_exporter": "python",
   "pygments_lexer": "ipython3",
   "version": "3.10.4"
  },
  "orig_nbformat": 4,
  "vscode": {
   "interpreter": {
    "hash": "64662e17c20e17ba9ef56a1055aa4fdde537c737af698ff811ebb2b7d83aa6f7"
   }
  }
 },
 "nbformat": 4,
 "nbformat_minor": 2
}
